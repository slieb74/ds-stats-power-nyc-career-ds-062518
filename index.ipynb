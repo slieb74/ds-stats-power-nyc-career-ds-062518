{
 "cells": [
  {
   "cell_type": "markdown",
   "metadata": {},
   "source": [
    "## Power Analysis\n",
    "\n",
    "### SWABT:\n",
    "\n",
    "* Describe the concept of \"Power\" in relation to p-value and effect size for hypothesis testing. \n",
    "* Understand and critically evaluate the factors influencing the power of an experiment.\n",
    "* Perform Power calculation using Scipy and Python.\n",
    "* Demonstrate the impact of sample size on statistical power using simulations.\n",
    "* Demonstrate the combined effect of sample size and effect size on statistical power using simulations.\n",
    "\n",
    "\n",
    "### Overview\n",
    "\n",
    "\n",
    "Power analysis is an important aspect of experimental design. It allows us to determine the sample size required to detect an effect of a given size with a given degree of confidence. Conversely, it allows us to determine the probability of detecting an effect of a given size with a given level of confidence, under sample size constraints. If the probability is unacceptably low, we would be wise to alter or abandon the experiment.\n",
    "\n",
    "The following four quantities have an intimate relationship:\n",
    "\n",
    "* Sample size\n",
    "* Effect size\n",
    "* Significance level = P (Type I error) = probability of finding an effect that is not there\n",
    "* **Power = 1 - P (Type II error)** = probability of finding an effect that is there\n",
    "\n",
    "Given any three, we can determine the fourth."
   ]
  },
  {
   "cell_type": "markdown",
   "metadata": {},
   "source": [
    "In this lesson, we will consider a general-purpose simulation approach to estimating the power of an experimental design.\n",
    "\n",
    "Consider a scenario with an expected effect size and sample size and we would like to know the associated power. For our example experiment, we will use a design with two factors: \n",
    "\n",
    "1. 30 participants per group\n",
    "2. A ‘large’ effect size (Cohen’s d = 0.8). \n",
    "\n",
    "Here, we will determine the power of this test.\n",
    "\n"
   ]
  },
  {
   "cell_type": "code",
   "execution_count": 1,
   "metadata": {},
   "outputs": [],
   "source": [
    "import numpy as np\n",
    "import scipy.stats as stats\n",
    "import pandas\n",
    "import matplotlib.pyplot as plt\n",
    "\n",
    "# No. of groups\n",
    "groups = 2\n",
    "\n",
    "# No. of samples\n",
    "n = 30\n",
    "\n",
    "# No. of simulations\n",
    "sims = 10000\n",
    "\n",
    "# Effect size = 0.8, same standard deviation for both groups\n",
    "# Use two lists to store mean and sigma values\n",
    "means = [0.0, 0.8] \n",
    "sigmas = [1.0, 1.0]\n",
    "\n",
    "# Initialize a numpy array with size equal to sims and fill with nans. Store the p value for each simulation later\n",
    "p_val = np.empty(sims)\n",
    "p_val.fill(np.nan)"
   ]
  },
  {
   "cell_type": "markdown",
   "metadata": {},
   "source": [
    "### Calculating Power\n",
    "\n",
    "We shall now perform a large number of simulated experiments, each time calculating our test statistic (independent samples t-test, in this case) and counting the number of times we reject the null hypothesis. The power is simply the proportion of times that we are able to reject the null hypothesis (remembering that we control the population means and we know that there is a true difference)."
   ]
  },
  {
   "cell_type": "code",
   "execution_count": 17,
   "metadata": {},
   "outputs": [
    {
     "name": "stdout",
     "output_type": "stream",
     "text": [
      "Power:  0.8572\n"
     ]
    }
   ],
   "source": [
    "#  Run a for loop for range of values in sims\n",
    "for sim in range(sims):\n",
    "\n",
    "    # Create a numpy array \"data\" with size (no. of samples x no. of groups) and fill with Nans\n",
    "    data = np.empty([n,groups])\n",
    "    data.fill(np.nan)\n",
    "    \n",
    "    # Simulate the data for experiment for 2 groups using a for loop \n",
    "    for group in range(groups):\n",
    "\n",
    "        # Generate normal distribution for both groups described above and save in the data array under different index\n",
    "        data[:, group] = np.random.normal(loc=means[group], scale=sigmas[group], size=n)\n",
    "    \n",
    "    # Run an independant t-test on generated distributions stored in numpy array \n",
    "    result = stats.ttest_ind(data[:,0],data[:,1])\n",
    "    \n",
    "    # Store the p value with simulation number \n",
    "    p_val[sim] = result[1]\n",
    "\n",
    "# number of simulations where the null was rejected\n",
    "rejects = np.sum(p_val<0.05)\n",
    "reject_proportion = rejects/float(sims)\n",
    "\n",
    "# Print the reject proportion as power\n",
    "print('Power: ',reject_proportion)\n",
    "# Power:  0.855"
   ]
  },
  {
   "cell_type": "markdown",
   "metadata": {},
   "source": [
    "We can see that our power to detect a large effect size with 30 participants per group in a between-subjects design is about 86%. That is, if a large effect size is truly present then we would expect to be able to reject the null hypothesis (at an alpha of 0.05) about 86% of the time."
   ]
  },
  {
   "cell_type": "markdown",
   "metadata": {},
   "source": [
    "### Calculate sample size to achieve a *given power* for a *given effect size*"
   ]
  },
  {
   "cell_type": "markdown",
   "metadata": {},
   "source": [
    "Consider a scenario where you have a design and effect size in mind and would like to know what sample size you would need to achieve a particular power e.g. 80%. This is a straightforward extension of the previous example: we begin with a sample size and calculate the associated power. We then perform such a calculation repeatedly, each time increasing the sample size, until the power has reached the desired level."
   ]
  },
  {
   "cell_type": "markdown",
   "metadata": {},
   "source": [
    "The simulation code shown above can be slightly modified to improve speed of execution (i.e. the computational cost, which must be considered at all times while running large tests). Let’s make some tweaks to allow the simulations to be performed quicker. \n",
    "\n",
    "In the code below, we generate the simulated data all at once and then use the axis argument to `scipy.stats.ttest_ind` to perform the test. "
   ]
  },
  {
   "cell_type": "code",
   "execution_count": 60,
   "metadata": {},
   "outputs": [],
   "source": [
    "def simulation(power, cohen_d):\n",
    "    \n",
    "    # initialize with 20 samples per group \n",
    "    n = 20\n",
    "    \n",
    "    # Identify the effect size between groups\n",
    "    means = [0.0, cohen_d]\n",
    "    sigmas = [1.0, 1.0]\n",
    "\n",
    "    # No. of groups\n",
    "    groups = len(means)\n",
    "\n",
    "    # Set 10000 simulations\n",
    "    sims = 10000\n",
    "\n",
    "    # power level that we would like to reach\n",
    "    power_target = power\n",
    "\n",
    "    # initialise the power for the current sample size to a small value\n",
    "    power_current = 0.0\n",
    "    pow_samp = []\n",
    "    \n",
    "    # keep iterating until desired power is obtained\n",
    "    while power_current < power_target:\n",
    "        \n",
    "        # create a numpy array with dimensions [sims, n, groups] and fill with nans\n",
    "        data = np.empty([sims,n,groups])\n",
    "        data.fill(np.nan)\n",
    "        \n",
    "        # generate random samples for both groups and run t tests\n",
    "        for group in range(groups):\n",
    "            data[:, :, group] =  np.random.normal(loc=means[group],scale=sigmas[group],size=[sims,n])\n",
    "\n",
    "        result = stats.ttest_ind(data[:,:,0],data[:,:,1],axis=1)\n",
    "\n",
    "        p_val = result[1]\n",
    "\n",
    "        # Number of simulations where the null hypothesis was rejected\n",
    "        rejects = np.sum(p_val < 0.05)\n",
    "        \n",
    "        # Calculate reject proportion\n",
    "        reject_proportion = rejects/float(sims)\n",
    "\n",
    "        power_current =  reject_proportion\n",
    "\n",
    "        print(\"With\", n,\"samples per group, Power =\", power_current)\n",
    "        # append results to pow_samp\n",
    "        pow_samp.append([n,power_current])\n",
    "        # increase the number of samples by one for the next iteration of the loop\n",
    "        n+=1\n",
    "        \n",
    "    return pow_samp"
   ]
  },
  {
   "cell_type": "markdown",
   "metadata": {},
   "source": [
    "Now we can set the value for required power and effect size to calculate the number of samples required to achieve the specified level of power."
   ]
  },
  {
   "cell_type": "code",
   "execution_count": 63,
   "metadata": {},
   "outputs": [
    {
     "name": "stdout",
     "output_type": "stream",
     "text": [
      "With 20 samples per group, Power = 0.6985\n",
      "With 21 samples per group, Power = 0.7189\n",
      "With 22 samples per group, Power = 0.7389\n",
      "With 23 samples per group, Power = 0.7484\n",
      "With 24 samples per group, Power = 0.7742\n",
      "With 25 samples per group, Power = 0.7895\n",
      "With 26 samples per group, Power = 0.8061\n",
      "With 27 samples per group, Power = 0.8173\n",
      "With 28 samples per group, Power = 0.8342\n",
      "With 29 samples per group, Power = 0.8565\n",
      "With 30 samples per group, Power = 0.8535\n",
      "With 31 samples per group, Power = 0.8713\n",
      "With 32 samples per group, Power = 0.8801\n",
      "With 33 samples per group, Power = 0.8998\n",
      "With 34 samples per group, Power = 0.9015\n",
      "With 35 samples per group, Power = 0.9076\n",
      "With 36 samples per group, Power = 0.9223\n",
      "With 37 samples per group, Power = 0.9288\n",
      "With 38 samples per group, Power = 0.9263\n",
      "With 39 samples per group, Power = 0.9373\n",
      "With 40 samples per group, Power = 0.944\n",
      "With 41 samples per group, Power = 0.9456\n",
      "With 42 samples per group, Power = 0.9538\n",
      "With 43 samples per group, Power = 0.9559\n",
      "With 44 samples per group, Power = 0.9591\n",
      "With 45 samples per group, Power = 0.9627\n",
      "With 46 samples per group, Power = 0.9676\n",
      "With 47 samples per group, Power = 0.9703\n",
      "With 48 samples per group, Power = 0.9736\n",
      "With 49 samples per group, Power = 0.9743\n",
      "With 50 samples per group, Power = 0.9777\n",
      "With 51 samples per group, Power = 0.9801\n",
      "With 52 samples per group, Power = 0.9805\n",
      "With 53 samples per group, Power = 0.9795\n",
      "With 54 samples per group, Power = 0.9842\n",
      "With 55 samples per group, Power = 0.9854\n",
      "With 56 samples per group, Power = 0.9892\n",
      "With 57 samples per group, Power = 0.9867\n",
      "With 58 samples per group, Power = 0.9892\n",
      "With 59 samples per group, Power = 0.9903\n",
      "With 60 samples per group, Power = 0.9933\n",
      "With 61 samples per group, Power = 0.9905\n",
      "With 62 samples per group, Power = 0.9934\n",
      "With 63 samples per group, Power = 0.9928\n",
      "With 64 samples per group, Power = 0.9948\n",
      "With 65 samples per group, Power = 0.9939\n",
      "With 66 samples per group, Power = 0.9957\n",
      "With 67 samples per group, Power = 0.9951\n",
      "With 68 samples per group, Power = 0.9969\n",
      "With 69 samples per group, Power = 0.9959\n",
      "With 70 samples per group, Power = 0.9957\n",
      "With 71 samples per group, Power = 0.9971\n",
      "With 72 samples per group, Power = 0.9984\n",
      "With 73 samples per group, Power = 0.9972\n",
      "With 74 samples per group, Power = 0.9985\n",
      "With 75 samples per group, Power = 0.9981\n",
      "With 76 samples per group, Power = 0.9987\n",
      "With 77 samples per group, Power = 0.9988\n",
      "With 78 samples per group, Power = 0.9987\n",
      "With 79 samples per group, Power = 0.9986\n",
      "With 80 samples per group, Power = 0.9988\n",
      "With 81 samples per group, Power = 0.9992\n",
      "With 82 samples per group, Power = 0.9992\n",
      "With 83 samples per group, Power = 0.999\n",
      "With 84 samples per group, Power = 0.9994\n",
      "With 85 samples per group, Power = 0.9996\n",
      "With 86 samples per group, Power = 0.9998\n",
      "With 87 samples per group, Power = 0.9999\n",
      "With 88 samples per group, Power = 0.9992\n",
      "With 89 samples per group, Power = 0.9997\n",
      "With 90 samples per group, Power = 0.9998\n",
      "With 91 samples per group, Power = 0.9999\n",
      "With 92 samples per group, Power = 0.9999\n",
      "With 93 samples per group, Power = 0.9998\n",
      "With 94 samples per group, Power = 1.0\n"
     ]
    },
    {
     "data": {
      "image/png": "[encoded data removed]",
      "text/plain": [
       "<Figure size 360x360 with 1 Axes>"
      ]
     },
     "metadata": {},
     "output_type": "display_data"
    }
   ],
   "source": [
    "# Set Power and Cohen'd - Change these values and observe the effect on the outcome. \n",
    "set_power = 1\n",
    "set_d = 0.8\n",
    "\n",
    "#  Plot power vs sample size\n",
    "plt.figure(figsize=(5,5))\n",
    "plt.title('Power vs. Sample Size')\n",
    "plt.xlabel('Sample Size')\n",
    "plt.ylabel('Power')\n",
    "\n",
    "ans = simulation(set_power,set_d)\n",
    "df = pandas.DataFrame(ans)\n",
    "plt.plot(df[0],df[1])\n",
    "plt.show()\n"
   ]
  },
  {
   "cell_type": "markdown",
   "metadata": {},
   "source": [
    "The figure shows a decelerating relationship between the number of samples in each group and the power. "
   ]
  },
  {
   "cell_type": "markdown",
   "metadata": {},
   "source": [
    ">**EXERCISE: Calculating power across varying sample and effect sizes**\n",
    "\n",
    ">In the previous examples, we have assumed a fixed (‘large’) effect size. However, perhaps we want to investigate how power changes with both effect size and sample size. This is again a straightforward extension of the previous example. \n",
    "\n",
    ">1. Generate samples with sizes ranging from 10 to 50 per group\n",
    "2. Set effect size from less than small (i.e. 0.2) to slightly bigger than large (0.8)\n",
    "3. set number of simulations to 10000\n",
    "4. Use nested For loop i.e. for all chosen effect sizes,for all chosen sample sizes, for all groups (i.e. 2) - run the 2 sample independent test and store power, chosen sample size and effect size\n",
    "5. Visualize your data in a meaningful way to communicate results "
   ]
  },
  {
   "cell_type": "code",
   "execution_count": 88,
   "metadata": {},
   "outputs": [
    {
     "data": {
      "image/png": "[encoded data removed]",
      "text/plain": [
       "<Figure size 432x288 with 1 Axes>"
      ]
     },
     "metadata": {},
     "output_type": "display_data"
    }
   ],
   "source": [
    "#create sample sizes from 10 to 50 increasing in increments of 5\n",
    "samples_per_group = np.arange(10,51,5)\n",
    "#total number of samples to try out\n",
    "n_samples_per_group = len(samples_per_group)\n",
    "\n",
    "#create array of effect sizes from 0.2-0.8 incrementing by 0.1\n",
    "effect_sizes = np.arange(.2,.8,.1)\n",
    "#total number of effect sizes to test out\n",
    "n_effect_sizes = len(effect_sizes)\n",
    "\n",
    "#create empty array with dimensions of n_effect_sizes and n_samples_per_group, later will fill with power\n",
    "power = np.empty([n_effect_sizes,n_samples_per_group])\n",
    "power.fill(np.nan)\n",
    "\n",
    "#number of simulations\n",
    "sims=10000\n",
    "\n",
    "#loop through all possible effect sizes\n",
    "for effect_size in range(n_effect_sizes):\n",
    "    #set first group mean to equal 0, second to equal given effect size from loop. set std to = 1 for both groups\n",
    "    group_means=[0,effect_sizes[effect_size]]\n",
    "    group_sigmas=[1,1]\n",
    "    #num of groups\n",
    "    groups = len(group_means)\n",
    "    \n",
    "    #loop through all sample sizes for each effect size\n",
    "    for sample_size in range(n_samples_per_group):\n",
    "        n_per_group = samples_per_group[sample_size]\n",
    "        #create empty data 3d array with dimensions sims, samples per group, num groups\n",
    "        data = np.empty([sims,n_per_group,groups])\n",
    "        data.fill(np.nan)\n",
    "        \n",
    "        #loop through each group and generate randomized normal distribution to add to 3d data array\n",
    "        for group in range(groups):\n",
    "            #for each group, set mean = group_means, std = group_sigmas, size = sims*samples per group\n",
    "            data[:, :, group] =  np.random.normal(loc=group_means[group],scale=group_sigmas[group],size=[sims,n_per_group])\n",
    "        \n",
    "        #ttest to generate t-value and p-value\n",
    "        result= stats.ttest_ind(data[:,:,0],data[:,:,1],axis=1)\n",
    "        \n",
    "        #set p-value to result from t-test\n",
    "        p_val=result[1]\n",
    "        \n",
    "        #reject null wheneever p_val<alpha, sum all rejects and divide by # sims to get reject proportion\n",
    "        rejects = np.sum(p_val<0.05)\n",
    "        reject_proportion = rejects/float(sims)\n",
    "        \n",
    "        # add reject proportion to empty power numpy array for tested effect and sample size\n",
    "        power[effect_size,sample_size] = reject_proportion\n",
    "\n",
    "#plot heatmap after all simulations completed\n",
    "plt.imshow(power, cmap='hot',origin = 'lower')\n",
    "plt.title('Power Heatmap')\n",
    "#x-axis represents number of samples in group ([10,15,20,25,30,35,40,45,50])\n",
    "plt.xlabel('Sample Trial (10-50)')\n",
    "#y-axis represents effect size used [.2,.3,.4,.5,.6,.7,.8] in sample\n",
    "plt.ylabel('Effect Size Trial (0.2-0.8)')\n",
    "plt.show()\n",
    "#power increases as both effect size and sample size increase"
   ]
  },
  {
   "cell_type": "code",
   "execution_count": 87,
   "metadata": {},
   "outputs": [
    {
     "data": {
      "text/plain": [
       "array([[0.0693, 0.0858, 0.0917, 0.1075, 0.123 , 0.1253, 0.1415, 0.1513,\n",
       "        0.1666],\n",
       "       [0.1024, 0.1263, 0.1497, 0.1758, 0.2122, 0.243 , 0.2643, 0.2894,\n",
       "        0.3163],\n",
       "       [0.1412, 0.1746, 0.2312, 0.2884, 0.3289, 0.3821, 0.428 , 0.4645,\n",
       "        0.4959],\n",
       "       [0.1901, 0.2666, 0.3435, 0.41  , 0.4739, 0.5386, 0.6008, 0.6555,\n",
       "        0.6945],\n",
       "       [0.2427, 0.3583, 0.452 , 0.5451, 0.6337, 0.6839, 0.7509, 0.8049,\n",
       "        0.8448],\n",
       "       [0.3139, 0.4653, 0.5776, 0.6736, 0.7531, 0.8203, 0.863 , 0.9024,\n",
       "        0.936 ],\n",
       "       [0.3912, 0.564 , 0.6952, 0.787 , 0.8616, 0.9125, 0.9392, 0.9637,\n",
       "        0.9764]])"
      ]
     },
     "execution_count": 87,
     "metadata": {},
     "output_type": "execute_result"
    }
   ],
   "source": [
    "power"
   ]
  },
  {
   "cell_type": "markdown",
   "metadata": {},
   "source": [
    "we can see that the power for a given combination of effect size and sample size per group is represented by the luminance of the relevant cell. "
   ]
  },
  {
   "cell_type": "markdown",
   "metadata": {},
   "source": [
    "### Conclusion: \n",
    "\n",
    "In this lesson, we recieved an understanding around the idea of \"statistical power\" and how sample size, p_value and effect size impact the power of an experiment. We ran a simulation to determine the sample size that would provide a given value of power. In the second simulation, we saw the combined effect of sample size and effect size on the power. We can conclude this lesson with the ideas that a) Statistical power increases as we increase the sample size and b) with a small effect size, we require a large number of samples to achieve required power and vice versa. "
   ]
  }
 ],
 "metadata": {
  "kernelspec": {
   "display_name": "Python 3",
   "language": "python",
   "name": "python3"
  },
  "language_info": {
   "codemirror_mode": {
    "name": "ipython",
    "version": 3
   },
   "file_extension": ".py",
   "mimetype": "text/x-python",
   "name": "python",
   "nbconvert_exporter": "python",
   "pygments_lexer": "ipython3",
   "version": "3.6.4"
  }
 },
 "nbformat": 4,
 "nbformat_minor": 2
}
